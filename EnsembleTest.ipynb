{
 "cells": [
  {
   "cell_type": "code",
   "execution_count": 2,
   "metadata": {},
   "outputs": [],
   "source": [
    "from sklearn.naive_bayes import GaussianNB\n",
    "import numpy as np\n",
    "import random\n",
    "import csv"
   ]
  },
  {
   "cell_type": "code",
   "execution_count": 17,
   "metadata": {},
   "outputs": [],
   "source": [
    "x,y = [],[]\n",
    "\n",
    "f = open(\"TrainsetTugas4ML.csv\",\"r\")\n",
    "reader = csv.reader(f)\n",
    "next(reader)\n",
    "\n",
    "for d in reader:\n",
    "    x.append([float(d[0]),float(d[1])])\n",
    "    y.append(int(d[2]))\n",
    "\n",
    "xt = []\n",
    "g = open(\"TestsetTugas4ML.csv\",\"r\")\n",
    "reader = csv.reader(g)\n",
    "next(reader)\n",
    "\n",
    "for d in reader:\n",
    "    xt.append([float(d[0]),float(d[1])])\n",
    "\n",
    "\n"
   ]
  },
  {
   "cell_type": "code",
   "execution_count": 22,
   "metadata": {},
   "outputs": [],
   "source": [
    "a,b,c,d,e,m,n = [],[],[],[],[],[],[]\n",
    "temp = 0\n",
    "        \n",
    "for i in range(7):\n",
    "    x1,y1 = [],[]\n",
    "    for j in range (len(x)):\n",
    "        temp = random.randint(0,297)\n",
    "        x1.append(x[temp])\n",
    "        y1.append(y[temp])\n",
    "    clf = GaussianNB()\n",
    "    clf.fit(x1,y1)\n",
    "#     print x1    \n",
    "    for k in xt:\n",
    "        if i == 0 :\n",
    "            a.append(int(clf.predict([k])))\n",
    "        elif i == 1 :\n",
    "            b.append(int(clf.predict([k])))\n",
    "        elif i == 2 :\n",
    "            c.append(int(clf.predict([k])))\n",
    "        elif i == 3 :\n",
    "            d.append(int(clf.predict([k])))\n",
    "        elif i == 4 :\n",
    "            e.append(int(clf.predict([k])))\n",
    "        elif i == 5 :\n",
    "            m.append(int(clf.predict([k])))\n",
    "        elif i == 6 :\n",
    "            n.append(int(clf.predict([k])))"
   ]
  },
  {
   "cell_type": "code",
   "execution_count": 33,
   "metadata": {},
   "outputs": [
    {
     "name": "stdout",
     "output_type": "stream",
     "text": [
      "[2, 2, 2, 2, 2, 2, 2, 2, 2, 2, 2, 1, 2, 1, 1, 1, 1, 1, 1, 1, 2, 1, 2, 1, 1, 1, 1, 2, 1, 2, 2, 1, 2, 1, 1, 1, 1, 1, 1, 1, 1, 2, 1, 1, 1, 1, 1, 1, 1, 1, 1, 1, 1, 1, 1, 1, 1, 1, 1, 1, 1, 1, 1, 1, 1, 1, 1, 1, 1, 1, 1, 1, 1, 1, 1]\n"
     ]
    }
   ],
   "source": [
    "hasil = []\n",
    "satu,dua=0,0\n",
    "for i in range(len(xt)):\n",
    "    temp = []\n",
    "    temp.append([a[i],b[i],c[i],d[i],e[i],m[i],n[i]])\n",
    "    satu = temp[0].count(1)\n",
    "    dua = temp[0].count(2)\n",
    "    if satu > dua:\n",
    "        hasil.append(1)\n",
    "    else:\n",
    "        hasil.append(2)\n",
    "        \n",
    "print(hasil)"
   ]
  },
  {
   "cell_type": "code",
   "execution_count": 34,
   "metadata": {},
   "outputs": [],
   "source": [
    "h = open(\"TebakanTugas4ML.csv\",\"w\")\n",
    "w = csv.writer(h)\n",
    "w.writerow(['Class'])"
   ]
  },
  {
   "cell_type": "code",
   "execution_count": 35,
   "metadata": {},
   "outputs": [
    {
     "name": "stdout",
     "output_type": "stream",
     "text": [
      "2\n",
      "2\n",
      "2\n",
      "2\n",
      "2\n",
      "2\n",
      "2\n",
      "2\n",
      "2\n",
      "2\n",
      "2\n",
      "1\n",
      "2\n",
      "1\n",
      "1\n",
      "1\n",
      "1\n",
      "1\n",
      "1\n",
      "1\n",
      "2\n",
      "1\n",
      "2\n",
      "1\n",
      "1\n",
      "1\n",
      "1\n",
      "2\n",
      "1\n",
      "2\n",
      "2\n",
      "1\n",
      "2\n",
      "1\n",
      "1\n",
      "1\n",
      "1\n",
      "1\n",
      "1\n",
      "1\n",
      "1\n",
      "2\n",
      "1\n",
      "1\n",
      "1\n",
      "1\n",
      "1\n",
      "1\n",
      "1\n",
      "1\n",
      "1\n",
      "1\n",
      "1\n",
      "1\n",
      "1\n",
      "1\n",
      "1\n",
      "1\n",
      "1\n",
      "1\n",
      "1\n",
      "1\n",
      "1\n",
      "1\n",
      "1\n",
      "1\n",
      "1\n",
      "1\n",
      "1\n",
      "1\n",
      "1\n",
      "1\n",
      "1\n",
      "1\n",
      "1\n"
     ]
    }
   ],
   "source": [
    "for row in hasil :\n",
    "    print(row)\n",
    "    w.writerow([str(row)])"
   ]
  },
  {
   "cell_type": "code",
   "execution_count": 36,
   "metadata": {},
   "outputs": [],
   "source": [
    "f.close()\n",
    "g.close()\n",
    "h.close()"
   ]
  },
  {
   "cell_type": "code",
   "execution_count": null,
   "metadata": {},
   "outputs": [],
   "source": []
  }
 ],
 "metadata": {
  "kernelspec": {
   "display_name": "Python 3",
   "language": "python",
   "name": "python3"
  },
  "language_info": {
   "codemirror_mode": {
    "name": "ipython",
    "version": 2
   },
   "file_extension": ".py",
   "mimetype": "text/x-python",
   "name": "python",
   "nbconvert_exporter": "python",
   "pygments_lexer": "ipython2",
   "version": "2.7.15rc1"
  }
 },
 "nbformat": 4,
 "nbformat_minor": 2
}
